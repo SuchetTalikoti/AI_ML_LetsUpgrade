{
  "nbformat": 4,
  "nbformat_minor": 0,
  "metadata": {
    "colab": {
      "name": "Day5_Assignment.ipynb",
      "provenance": [],
      "collapsed_sections": []
    },
    "kernelspec": {
      "name": "python3",
      "display_name": "Python 3"
    }
  },
  "cells": [
    {
      "cell_type": "markdown",
      "metadata": {
        "id": "YDJ3jc6Z5Ijf",
        "colab_type": "text"
      },
      "source": [
        "__Question 1__ :\n",
        "Write a Python program to find the first 20 non-even prime natural numbers."
      ]
    },
    {
      "cell_type": "code",
      "metadata": {
        "id": "ZecoVZgn5oCZ",
        "colab_type": "code",
        "colab": {
          "base_uri": "https://localhost:8080/",
          "height": 34
        },
        "outputId": "b91a1725-c3bb-4e74-9972-e11cd5d1af55"
      },
      "source": [
        "num = 2;\n",
        "count = 0\n",
        "while True :\n",
        "  for j in range(2,num+1):\n",
        "    if num % j == 0:\n",
        "      break\n",
        "  if num == j:\n",
        "    if num % 2 != 0:\n",
        "      count+=1\n",
        "      print(num, end = \", \")\n",
        "      if count == 20:\n",
        "       break\n",
        "  num = num+1"
      ],
      "execution_count": null,
      "outputs": [
        {
          "output_type": "stream",
          "text": [
            "3, 5, 7, 11, 13, 17, 19, 23, 29, 31, 37, 41, 43, 47, 53, 59, 61, 67, 71, 73, "
          ],
          "name": "stdout"
        }
      ]
    },
    {
      "cell_type": "markdown",
      "metadata": {
        "id": "7NKdv3ca5NhX",
        "colab_type": "text"
      },
      "source": [
        "__Question 2__ :\n",
        "Write a Python program to implement 15 functions of string."
      ]
    },
    {
      "cell_type": "code",
      "metadata": {
        "id": "6KDR1A068PIW",
        "colab_type": "code",
        "colab": {
          "base_uri": "https://localhost:8080/",
          "height": 272
        },
        "outputId": "c7203b8e-34fe-4fec-f79e-afc9db5fc443"
      },
      "source": [
        "a  = \"I have completed all the assignments\"\n",
        "#1\n",
        "print(a.capitalize())\n",
        "#2\n",
        "print(a.casefold())\n",
        "#3\n",
        "print(a.center(50))\n",
        "#4\n",
        "print(a.count(\"have\"))\n",
        "#5\n",
        "print(len(a))\n",
        "#6\n",
        "print(a.index(\"all\"))\n",
        "#7\n",
        "print(a.upper())\n",
        "#8\n",
        "print(a.lower())\n",
        "#9\n",
        "print(a.find(\"all\"))\n",
        "#10\n",
        "print(a.split(' '))\n",
        "#11\n",
        "print(a.replace('a','z'))\n",
        "#12\n",
        "print(a.isdigit())\n",
        "#13\n",
        "print(a.islower())\n",
        "#14\n",
        "print(a.isupper())\n",
        "#15\n",
        "print(a.endswith(\"s\"))"
      ],
      "execution_count": null,
      "outputs": [
        {
          "output_type": "stream",
          "text": [
            "I have completed all the assignments\n",
            "i have completed all the assignments\n",
            "       I have completed all the assignments       \n",
            "1\n",
            "36\n",
            "17\n",
            "I HAVE COMPLETED ALL THE ASSIGNMENTS\n",
            "i have completed all the assignments\n",
            "17\n",
            "['I', 'have', 'completed', 'all', 'the', 'assignments']\n",
            "I hzve completed zll the zssignments\n",
            "False\n",
            "False\n",
            "False\n",
            "True\n"
          ],
          "name": "stdout"
        }
      ]
    },
    {
      "cell_type": "markdown",
      "metadata": {
        "id": "mHuuRYlu5Rau",
        "colab_type": "text"
      },
      "source": [
        "__Question 3__:\n",
        "Write a Python program to check if the given string is a Palindrome or Anagram or None of them. Display\n",
        "the message accordingly to the user."
      ]
    },
    {
      "cell_type": "code",
      "metadata": {
        "id": "XsV6jk0mAUUT",
        "colab_type": "code",
        "colab": {
          "base_uri": "https://localhost:8080/",
          "height": 136
        },
        "outputId": "ba32c9f1-1939-4da7-d729-ea45055eddd9"
      },
      "source": [
        "a = input(\"Please enter a string1  : \")\n",
        "a1 = input(\"Please enter a string2  : \")\n",
        "r_a = \"\"\n",
        "for c in a:\n",
        "  r_a = c + r_a\n",
        "\n",
        "flag = 0\n",
        "if len(a1) == len(a) :\n",
        "  for c in a1:\n",
        "   print(a)\n",
        "   if a.find(c) == -1:\n",
        "     flag = 1\n",
        "   a=a.replace(c,'',1)\n",
        "else :\n",
        "  flag = 1\n",
        "\n",
        "\n",
        "if r_a == a1:\n",
        "  print(\"String 2 is Palindrome of string1\")\n",
        "elif flag == 0:\n",
        "  print(\"String 2 is Anagram of string1\")\n",
        "else :\n",
        "  print(\"None of them\")\n"
      ],
      "execution_count": 14,
      "outputs": [
        {
          "output_type": "stream",
          "text": [
            "Please enter a string1  : Mauu\n",
            "Please enter a string2  : uuaM\n",
            "Mauu\n",
            "Mau\n",
            "Ma\n",
            "M\n",
            "String 2 is Palindrome of string1\n"
          ],
          "name": "stdout"
        }
      ]
    },
    {
      "cell_type": "markdown",
      "metadata": {
        "id": "PdzNzEIF5krs",
        "colab_type": "text"
      },
      "source": [
        "__Question 4__\n",
        ":\n",
        "Write a Python's user-defined function that removes all the additional characters from the string and\n",
        "convert it finally to lower case using built-in lower(). eg: If the string is \"Dr. Darshan Ingle @AIML Trainer\",\n",
        "then the output be \"drdarshaningleaimltrainer\"."
      ]
    },
    {
      "cell_type": "code",
      "metadata": {
        "id": "RZWpTjVmF0Nk",
        "colab_type": "code",
        "colab": {
          "base_uri": "https://localhost:8080/",
          "height": 51
        },
        "outputId": "063cf937-4296-4279-a8b7-c447c791d505"
      },
      "source": [
        "a = input(\"Please enter a string : \")\n",
        "b = \"\"\n",
        "for c in a:\n",
        "  if c.isalpha() == True : \n",
        "    b = b + c\n",
        "print(b.lower())"
      ],
      "execution_count": null,
      "outputs": [
        {
          "output_type": "stream",
          "text": [
            "Please enter a stringDr. Darshan Ingle @AIML Trainer\n",
            "drdarshaningleaimltrainer\n"
          ],
          "name": "stdout"
        }
      ]
    }
  ]
}