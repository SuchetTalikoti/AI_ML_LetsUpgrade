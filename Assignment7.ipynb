{
  "nbformat": 4,
  "nbformat_minor": 0,
  "metadata": {
    "colab": {
      "name": "Assignment7.ipynb",
      "provenance": [],
      "collapsed_sections": []
    },
    "kernelspec": {
      "name": "python3",
      "display_name": "Python 3"
    }
  },
  "cells": [
    {
      "cell_type": "markdown",
      "metadata": {
        "id": "MdvdlmmWzZ65",
        "colab_type": "text"
      },
      "source": [
        "__Question 1:__\n",
        "Write a program to copy the contents of one file to another using a for loop. (Don’t use built-in copy\n",
        "function)"
      ]
    },
    {
      "cell_type": "code",
      "metadata": {
        "id": "uWhCMYauzPUM",
        "colab_type": "code",
        "colab": {
          "base_uri": "https://localhost:8080/",
          "height": 141
        },
        "outputId": "52d36681-4590-4083-b0a2-ad523c3ff609"
      },
      "source": [
        "f = open(\"file1\",\"w\")\n",
        "f.write(\"Hello World.\\n How are you ?\") #file1\n",
        "f.close\n",
        "# fil1 content\n",
        "f = open(\"file1\",\"r\")\n",
        "data = f.read()\n",
        "f.close\n",
        "#copying data to file 2\n",
        "f1 = open(\"file2\",\"w\")\n",
        "f1.write(data)\n",
        "f1.close\n",
        "\n",
        "#both file data\n",
        "f = open(\"file1\",\"r\")\n",
        "print(\"File1 data : \\n\",f.read())\n",
        "f.close\n",
        "f = open(\"file2\",\"r\")\n",
        "print(\"\\nfile2 data : \\n\",f.read())"
      ],
      "execution_count": null,
      "outputs": [
        {
          "output_type": "stream",
          "text": [
            "File1 data : \n",
            " Hello World.\n",
            " How are you ?\n",
            "\n",
            "file2 data : \n",
            " Hello World.\n",
            " How are you ?\n"
          ],
          "name": "stdout"
        }
      ]
    },
    {
      "cell_type": "markdown",
      "metadata": {
        "id": "3U9Nkp1hzaBr",
        "colab_type": "text"
      },
      "source": [
        "__Question 2:__\n",
        "Write a Python program to find maximum and minimum values in the dictionary. Do not use built-in min\n",
        "and max functions."
      ]
    },
    {
      "cell_type": "code",
      "metadata": {
        "id": "DPl-8P4HEM52",
        "colab_type": "code",
        "colab": {
          "base_uri": "https://localhost:8080/",
          "height": 52
        },
        "outputId": "850c9dd8-1081-44fe-c6e7-ba606eb7748c"
      },
      "source": [
        "dict1  = {\"a\":10000,\"b\":20,\"c\":40,\"d\":100}\n",
        "i = -1\n",
        "min = int()\n",
        "max1 = int()\n",
        "\n",
        "for key,value in  dict1.items():\n",
        "  i=i+1\n",
        "  if i==0:\n",
        "    min = value\n",
        "    continue\n",
        "  if i ==1:\n",
        "    max1 = value\n",
        "    if min>max1:\n",
        "      temp = min\n",
        "      min = max1\n",
        "      max1 = temp\n",
        "    continue\n",
        "  if value < min:\n",
        "    min = value\n",
        "  elif value > max1:\n",
        "    max1 = value\n",
        "print(\"min is :\",min,\"\\nmax is :\",max1)\n",
        "  "
      ],
      "execution_count": 42,
      "outputs": [
        {
          "output_type": "stream",
          "text": [
            "min is : 20 \n",
            "max is : 10000\n"
          ],
          "name": "stdout"
        }
      ]
    }
  ]
}