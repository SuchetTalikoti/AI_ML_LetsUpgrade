{
  "nbformat": 4,
  "nbformat_minor": 0,
  "metadata": {
    "colab": {
      "name": "Day4_Assignment.ipynb",
      "provenance": [],
      "collapsed_sections": []
    },
    "kernelspec": {
      "name": "python3",
      "display_name": "Python 3"
    }
  },
  "cells": [
    {
      "cell_type": "markdown",
      "metadata": {
        "id": "589LqHjgTYCz",
        "colab_type": "text"
      },
      "source": [
        "__Question 1__ :\n",
        "Research on whether addition, subtraction, multiplication, division, floor division, and modulo operations\n",
        "be performed on complex numbers. Based on your study, implement a Python program to demonstrate\n",
        "these operations."
      ]
    },
    {
      "cell_type": "code",
      "metadata": {
        "id": "ertDQfU4UHUK",
        "colab_type": "code",
        "colab": {
          "base_uri": "https://localhost:8080/",
          "height": 85
        },
        "outputId": "36878f17-270d-40f2-d656-dd1b69cc72b1"
      },
      "source": [
        "#add can be performed\n",
        "#subtraction can be performed\n",
        "#multiplication can be performed\n",
        "#division can be performed\n",
        "#floor division can't be perform on complex numbers\n",
        "#mod operator can't be perform on complex numbers\n",
        "\n",
        "\n",
        "\n",
        "a = 4 + 4j #complex number1\n",
        "b = 1 + 1j #complex number2\n",
        "\n",
        "print(a + b) # We can perform complex number addition\n",
        "\n",
        "a = 4 + 4j #complex number1\n",
        "b = 1 + 1j #complex number2\n",
        "print(a - b) # We can perform complex number subtraction\n",
        "\n",
        "a = 4 + 4j #complex number1\n",
        "b = 1 + 1j #complex number2\n",
        "\"\"\" \n",
        "a * b \n",
        "= (4 + 4j)(1 + 1j)\n",
        "= 4 + 4j + 4j + 4j^2\n",
        "= 4 + 8j + 4j^2\n",
        "but as j^2  =  -1 \n",
        "= 4 + 8j +4(-1)\n",
        "= 4 + 8j -4\n",
        "8j\n",
        "\"\"\" \n",
        "print(a * b) # we can perform complex number Multiplication\n",
        "\n",
        "\n",
        "a = 4 + 4j #complex number1\n",
        "b = 1 + 1j #complex number2\n",
        "\"\"\"\n",
        "a / b\n",
        "=(4 + 4j)/(1 + 1j)\n",
        "#Multiply with conj of denominator\n",
        "=(4 + 4j)* (1 - 1j) / (1 + 1j) * (1 - 1j)\n",
        "=(4 - 4j + 4j - 4j^2) / (1 - 1j + 1j - 1j^2)\n",
        "but j^2 = -1\n",
        "=(4 + 4) / (1 + 1)\n",
        "= 8 / 2\n",
        "= 4 + 0j\n",
        "\"\"\"\n",
        "print(a/b)\n",
        "\n",
        "a = 4 + 4j #complex number1\n",
        "b = 1 + 1j #complex number2\n",
        "\n",
        "# print(a//b)   ## floor division can't be perform on complex numbers\n",
        "\n",
        "a = 4 + 4j #complex number1\n",
        "b = 1 + 1j #complex number2\n",
        "# print(a%b) #mod operator can't be perform on complex numbers"
      ],
      "execution_count": 17,
      "outputs": [
        {
          "output_type": "stream",
          "text": [
            "(5+5j)\n",
            "(3+3j)\n",
            "8j\n",
            "(4+0j)\n"
          ],
          "name": "stdout"
        }
      ]
    },
    {
      "cell_type": "markdown",
      "metadata": {
        "id": "ZFmhef4iTYKe",
        "colab_type": "text"
      },
      "source": [
        "__Question 2__ :\n",
        "Research on range() functions and its parameters. Create a markdown cell and write in your own words\n",
        "(no copy-paste from google please) what you understand about it. Implement a small program of your\n",
        "choice on the same."
      ]
    },
    {
      "cell_type": "code",
      "metadata": {
        "id": "XCnWCgiPZAYw",
        "colab_type": "code",
        "colab": {
          "base_uri": "https://localhost:8080/",
          "height": 204
        },
        "outputId": "b0a80225-7870-465e-d034-1237131840d3"
      },
      "source": [
        "\"\"\"\n",
        "Range Function is introduced in python 3\n",
        "Range Function accepts 3 argument\n",
        "Mostly used with for and while loop\n",
        "if step not specified : Range generates sequence of incremental starting from start till end\n",
        "if step specified : Range generates sequence of incremental starting from start till end with a increment of step\n",
        "range(Start , Stop, step);\n",
        "\n",
        "where we can use it as, where start by default taken as 0\n",
        "range(stop) \n",
        "\n",
        "range(start, stop)\n",
        "\n",
        "range(start, stop, range)\n",
        "\n",
        "\"\"\"\n",
        "range(0,100)  # returns upper and lower bond values(start and stop values)\n",
        "\n",
        "print(type(range(0,100)))\n",
        "\n",
        "# Program for printing seq from 0 to 10\n",
        "for i in range(0,10):\n",
        "  print(i)"
      ],
      "execution_count": 28,
      "outputs": [
        {
          "output_type": "stream",
          "text": [
            "<class 'range'>\n",
            "0\n",
            "1\n",
            "2\n",
            "3\n",
            "4\n",
            "5\n",
            "6\n",
            "7\n",
            "8\n",
            "9\n"
          ],
          "name": "stdout"
        }
      ]
    },
    {
      "cell_type": "markdown",
      "metadata": {
        "id": "zoZnrkR9TYgg",
        "colab_type": "text"
      },
      "source": [
        "__Question 3__:\n",
        "Consider two numbers. Perform their subtraction and if the result of subtraction is greater than 25, print\n",
        "their multiplication result else print their division result."
      ]
    },
    {
      "cell_type": "code",
      "metadata": {
        "id": "ObcVQ_LMbntY",
        "colab_type": "code",
        "colab": {
          "base_uri": "https://localhost:8080/",
          "height": 34
        },
        "outputId": "b622490f-d91a-4ec5-efe4-384f8578ba80"
      },
      "source": [
        "a = 30 # number1\n",
        "b = 20 # number2\n",
        "\n",
        "if a - b > 25 :\n",
        "  print(a*b)\n",
        "else:\n",
        "  print(a/b)"
      ],
      "execution_count": 30,
      "outputs": [
        {
          "output_type": "stream",
          "text": [
            "1.5\n"
          ],
          "name": "stdout"
        }
      ]
    },
    {
      "cell_type": "markdown",
      "metadata": {
        "id": "sUXJP8AUTYdf",
        "colab_type": "text"
      },
      "source": [
        "__Question 4__:\n",
        "Consider a list of 10 elements of integer values. If the number in the list is divisible by 2, print the result as\n",
        "\"square of that number minus 2\"."
      ]
    },
    {
      "cell_type": "code",
      "metadata": {
        "id": "KwDs8yJucFHa",
        "colab_type": "code",
        "colab": {
          "base_uri": "https://localhost:8080/",
          "height": 102
        },
        "outputId": "e8e5963d-f1ce-4770-c7d8-c856291cb828"
      },
      "source": [
        "a = [1,2,3,4,5,6,7,8,9,10]\n",
        "\n",
        "for i in a:\n",
        "  if i%2 == 0:\n",
        "    print((i*i) - 2)\n"
      ],
      "execution_count": 34,
      "outputs": [
        {
          "output_type": "stream",
          "text": [
            "2\n",
            "14\n",
            "34\n",
            "62\n",
            "98\n"
          ],
          "name": "stdout"
        }
      ]
    },
    {
      "cell_type": "markdown",
      "metadata": {
        "id": "jW3nMG3aTYaD",
        "colab_type": "text"
      },
      "source": [
        "__Question 5__:\n",
        "Consider a list of 10 elements. Print all the elements in the list which are greater than 7 when that number\n",
        "is divided 2."
      ]
    },
    {
      "cell_type": "code",
      "metadata": {
        "id": "fXu7gnfidgzP",
        "colab_type": "code",
        "colab": {
          "base_uri": "https://localhost:8080/",
          "height": 51
        },
        "outputId": "de4a65f1-29f1-46e8-f375-d3341dc9dda8"
      },
      "source": [
        "a = [1,2,3,4,5,6,7,8,9,10]\n",
        "\n",
        "for i in a:\n",
        "  if (i > 7) and ( i % 2==0 ):\n",
        "    print(i)"
      ],
      "execution_count": 35,
      "outputs": [
        {
          "output_type": "stream",
          "text": [
            "8\n",
            "10\n"
          ],
          "name": "stdout"
        }
      ]
    }
  ]
}