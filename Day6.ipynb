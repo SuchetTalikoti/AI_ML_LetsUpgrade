{
  "nbformat": 4,
  "nbformat_minor": 0,
  "metadata": {
    "colab": {
      "name": "Day6.ipynb",
      "provenance": [],
      "collapsed_sections": []
    },
    "kernelspec": {
      "name": "python3",
      "display_name": "Python 3"
    }
  },
  "cells": [
    {
      "cell_type": "markdown",
      "metadata": {
        "id": "ZP9SrRaZrm5h",
        "colab_type": "text"
      },
      "source": [
        "__Question 1 :__\n",
        "Assuming that we have some email addresses in the \"username@companyname.com\" format, please\n",
        "write a program to print the company name of a given email address. Both user names and company\n",
        "names are composed of letters only.\n",
        "Input Format:\n",
        "The first line of the input contains an email address.\n",
        "Output Format:\n",
        "Print the company name in a single line.\n",
        "Example;\n",
        "Input:\n",
        "john@google.com\n",
        "Output:\n",
        "google."
      ]
    },
    {
      "cell_type": "code",
      "metadata": {
        "id": "q1jOCumosPeX",
        "colab_type": "code",
        "colab": {
          "base_uri": "https://localhost:8080/",
          "height": 51
        },
        "outputId": "75b8a638-ed0f-4a5f-c8eb-96e9d3212f93"
      },
      "source": [
        "email = input(\"Please Enter email adress : \")\n",
        "print(email[email.find(\"@\") + 1 : email.find(\".com\")])"
      ],
      "execution_count": null,
      "outputs": [
        {
          "output_type": "stream",
          "text": [
            "Please Enter email adress :  john@google.com\n",
            "google\n"
          ],
          "name": "stdout"
        }
      ]
    },
    {
      "cell_type": "markdown",
      "metadata": {
        "id": "t7phypKUrnD2",
        "colab_type": "text"
      },
      "source": [
        "__Question 2 :__\n",
        "Write a program that accepts a comma-separated sequence of words as input and prints the words in a\n",
        "comma-separated sequence after sorting them alphabetically.\n",
        "Input Format:\n",
        "The first line of input contains words separated by the comma.\n",
        "Output Format:\n",
        "Print the sorted words separated by the comma.\n",
        "Example:\n",
        "Input:\n",
        "without,hello,bag,world\n",
        "Output:\n",
        "bag,hello,without,world"
      ]
    },
    {
      "cell_type": "code",
      "metadata": {
        "id": "qbBJWamosQAF",
        "colab_type": "code",
        "colab": {
          "base_uri": "https://localhost:8080/",
          "height": 51
        },
        "outputId": "fb91eba0-ba1a-4cc7-da31-4be2365fdbd4"
      },
      "source": [
        "words = input(\"Please insert comma separated words : \")\n",
        "words.split(\",\").sort()\n",
        "print(words)"
      ],
      "execution_count": null,
      "outputs": [
        {
          "output_type": "stream",
          "text": [
            "Please insert comma separated words : without,hello,bag,world Output: bag,hello,without,world\n",
            "without,hello,bag,world Output: bag,hello,without,world\n"
          ],
          "name": "stdout"
        }
      ]
    },
    {
      "cell_type": "markdown",
      "metadata": {
        "id": "sfKRN2O5rnBI",
        "colab_type": "text"
      },
      "source": [
        "__Question 3:__\n",
        "Create your own Jupyter Notebook for Sets. Reference link:\n",
        "https://www.w3schools.com/python/python_sets.asp"
      ]
    },
    {
      "cell_type": "markdown",
      "metadata": {
        "id": "WE397M14Gz-C",
        "colab_type": "text"
      },
      "source": [
        "# __Set__\n",
        "\n",
        "###__Syntax:__\n",
        "\n",
        "set1 = {\"name\",10 , 20 , 30.12}\n",
        "\n",
        "###__Access Items__\n",
        "You cannot access items in a set by referring to an index or a key.\n",
        "\n",
        "But you can loop through the set items using a for loop, or ask if a specified value is present in a set, by using the in keyword.\n",
        "\n",
        "Example:\n",
        "\n",
        "sset = {\"apple\", \"banana\", \"cherry\"}\n",
        "\n",
        "for x in sset:\n",
        "  print(x)\n",
        "\n",
        "__Change Items\n",
        "Once a set is created, you cannot change its items, but you can add new items.__\n",
        "\n",
        "Set is __immutable__\n",
        "\n",
        "##__Add Items__\n",
        "To add one item to a set use the add() method.\n",
        "\n",
        "To add more than one item to a set use the update() method.\n",
        "\n",
        "##__Remove Item__\n",
        "To remove an item in a set, use the remove(), or the discard() method.\n",
        "\n",
        "####You can also use the pop(), method to remove an item, but this method will remove the last item. Remember that sets are unordered, so you will not know what item that gets removed. \n",
        "####The return value of the pop() method is the removed item.\n",
        "\n",
        "#####You can use the union() method that returns a new set containing all items from both sets, or the update() method that inserts all the items from one set into another:\n",
        "\n",
        "####__Note: Both union() and update() will exclude any duplicate items.__\n",
        "\n",
        "\n",
        "##Methods \n",
        "add()\tAdds an element to the set\n",
        "\n",
        "clear()\tRemoves all the elements from the set\n",
        "\n",
        "copy()\tReturns a copy of the set\n",
        "\n",
        "difference()\tReturns a set containing the difference between two or more sets\n",
        "\n",
        "difference_update()\tRemoves the items in this set that are also included in \n",
        "another, specified set\n",
        "\n",
        "discard()\tRemove the specified item\n",
        "\n",
        "intersection()\tReturns a set, that is the intersection of two other sets\n",
        "\n",
        "intersection_update()\tRemoves the items in this set that are not present in \n",
        "other, specified set(s)\n",
        "\n",
        "isdisjoint()\tReturns whether two sets have a intersection or not\n",
        "\n",
        "issubset()\tReturns whether another set contains this set or not\n",
        "\n",
        "issuperset()\tReturns whether this set contains another set or not\n",
        "\n",
        "pop()\tRemoves an element from the set\n",
        "\n",
        "remove()\tRemoves the specified element\n",
        "\n",
        "symmetric_difference()\tReturns a set with the symmetric differences of two sets\n",
        "\n",
        "symmetric_difference_update()\tinserts the symmetric differences from this set \n",
        "and another\n",
        "\n",
        "union()\tReturn a set containing the union of sets\n",
        "\n",
        "update()\tUpdate the set with the union of this set and others"
      ]
    },
    {
      "cell_type": "markdown",
      "metadata": {
        "id": "Em_Io48irm-Z",
        "colab_type": "text"
      },
      "source": [
        "__Question 4:__\n",
        "Given a list of n-1 numbers ranging from 1 to n, your task is to find the missing number. There are no\n",
        "duplicates.\n",
        "Input Format:\n",
        "The first line contains n-1 numbers with each number separated by a space.\n",
        "Output Format:\n",
        "Print the missing number\n",
        "Example:\n",
        "Input:\n",
        "1 2 4 6 3 7 8\n",
        "Output:\n",
        "5\n",
        "Explanation:\n",
        "In the above list of numbers 5 is missing and hence 5 is the input"
      ]
    },
    {
      "cell_type": "code",
      "metadata": {
        "id": "n6EtLdX-sR2H",
        "colab_type": "code",
        "colab": {
          "base_uri": "https://localhost:8080/",
          "height": 68
        },
        "outputId": "f01b524d-a702-4de3-c457-c5c2e3bca630"
      },
      "source": [
        "inp = (input(\"Please input numbers :\")).split(\" \")\n",
        "print(inp)\n",
        "missing = []\n",
        "for i in range(1,int(max(inp))+1) :\n",
        "  if str(i) in inp :\n",
        "    continue\n",
        "  else :\n",
        "    missing.append(i)\n",
        "print(missing, \" these are missing in the input\")"
      ],
      "execution_count": null,
      "outputs": [
        {
          "output_type": "stream",
          "text": [
            "Please input numbers :1 2 4 6 3 7 8\n",
            "['1', '2', '4', '6', '3', '7', '8']\n",
            "[5]  these are missing in the input\n"
          ],
          "name": "stdout"
        }
      ]
    },
    {
      "cell_type": "markdown",
      "metadata": {
        "id": "LpobdqVOrm2Z",
        "colab_type": "text"
      },
      "source": [
        "__Question 5:__\n",
        "With a given list L, write a program to print this list L after removing all duplicate values with original order\n",
        "reserved.\n",
        "Example:\n",
        "If the input list is\n",
        "12 24 35 24 88 120 155 88 120 155\n",
        "Then the output should be\n",
        "12 24 35 88 120 155\n",
        "Explanation:\n",
        "Third, the seventh and ninth element of the list L has been removed because it was already present.\n",
        "Input Format:\n",
        "In one line take the elements of the list L with each element separated by a space.\n",
        "Output Format:\n",
        "Print the elements of the modified list in one line with each element separated by a space.\n",
        "Example:\n",
        "Input:\n",
        "12 24 35 24\n",
        "Output:\n",
        "12 24 35"
      ]
    },
    {
      "cell_type": "code",
      "metadata": {
        "id": "4CULU6lqbJrB",
        "colab_type": "code",
        "colab": {
          "base_uri": "https://localhost:8080/",
          "height": 52
        },
        "outputId": "65c71009-6fb4-4234-ea38-f28651c27806"
      },
      "source": [
        "l = list(input(\"Please enter a list : \").split(\" \"))\n",
        "l1 = \"\"\n",
        "for i in l:\n",
        "  if (i in l1) == False:\n",
        "    l1 = l1 +\" \" + i\n",
        "print(l1)"
      ],
      "execution_count": 21,
      "outputs": [
        {
          "output_type": "stream",
          "text": [
            "Please enter a list : 12 24 35 24\n",
            " 12 24 35\n"
          ],
          "name": "stdout"
        }
      ]
    }
  ]
}