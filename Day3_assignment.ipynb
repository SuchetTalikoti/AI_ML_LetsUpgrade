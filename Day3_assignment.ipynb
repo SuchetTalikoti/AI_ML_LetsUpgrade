{
  "nbformat": 4,
  "nbformat_minor": 0,
  "metadata": {
    "colab": {
      "name": "Untitled2.ipynb",
      "provenance": [],
      "collapsed_sections": []
    },
    "kernelspec": {
      "name": "python3",
      "display_name": "Python 3"
    }
  },
  "cells": [
    {
      "cell_type": "markdown",
      "metadata": {
        "id": "aMF0HfVwY0cy",
        "colab_type": "text"
      },
      "source": [
        "__Question 1__:\n",
        "Write a program to subtract two complex numbers in Python."
      ]
    },
    {
      "cell_type": "code",
      "metadata": {
        "id": "ZUvlvGyuZpkm",
        "colab_type": "code",
        "colab": {
          "base_uri": "https://localhost:8080/",
          "height": 34
        },
        "outputId": "6ed34995-a1fa-466e-a78d-0412e2c3d328"
      },
      "source": [
        "a = 4 + 2j #number1\n",
        "b = 3 + 1j #number2\n",
        "print( a - b) #answer"
      ],
      "execution_count": 1,
      "outputs": [
        {
          "output_type": "stream",
          "text": [
            "(1+1j)\n"
          ],
          "name": "stdout"
        }
      ]
    },
    {
      "cell_type": "markdown",
      "metadata": {
        "id": "hMs-BjmwZHzp",
        "colab_type": "text"
      },
      "source": [
        "__uestion 2__ :\n",
        "Write a program to find the fourth root of a number."
      ]
    },
    {
      "cell_type": "code",
      "metadata": {
        "id": "njj2lkQwZ_YI",
        "colab_type": "code",
        "colab": {
          "base_uri": "https://localhost:8080/",
          "height": 34
        },
        "outputId": "71cc31d3-b8b0-45c5-b5f8-1740fe3c6e62"
      },
      "source": [
        "a = 16 # any number\n",
        "print( a ** (float(1/4)))"
      ],
      "execution_count": 3,
      "outputs": [
        {
          "output_type": "stream",
          "text": [
            "2.0\n"
          ],
          "name": "stdout"
        }
      ]
    },
    {
      "cell_type": "markdown",
      "metadata": {
        "id": "r_h1pjv1ZQWO",
        "colab_type": "text"
      },
      "source": [
        "__Question 3__:\n",
        "Write a program to swap two numbers in Python with the help of a temporary variable."
      ]
    },
    {
      "cell_type": "code",
      "metadata": {
        "id": "e1VwySqDb5tH",
        "colab_type": "code",
        "colab": {
          "base_uri": "https://localhost:8080/",
          "height": 51
        },
        "outputId": "9f35d5d9-e06e-43b5-c2ff-db12961a340a"
      },
      "source": [
        "a = 10 # number1\n",
        "b = 20 # number2\n",
        "print( \"Before Swap -- a :\",a,\" b :\",b)\n",
        "#swap prgm\n",
        "c = a\n",
        "a = b \n",
        "b = c\n",
        "print( \"After Swap -- a :\",a,\" b :\",b)"
      ],
      "execution_count": 4,
      "outputs": [
        {
          "output_type": "stream",
          "text": [
            "Before Swap -- a : 10  b : 20\n",
            "After Swap -- a : 20  b : 10\n"
          ],
          "name": "stdout"
        }
      ]
    },
    {
      "cell_type": "markdown",
      "metadata": {
        "id": "5j4Zxs30ZQiA",
        "colab_type": "text"
      },
      "source": [
        "__Question 4:__\n",
        "Write a program to swap two numbers in Python without using a temporary variable."
      ]
    },
    {
      "cell_type": "code",
      "metadata": {
        "id": "grTSqEc1cQ7-",
        "colab_type": "code",
        "colab": {
          "base_uri": "https://localhost:8080/",
          "height": 51
        },
        "outputId": "51532519-9c91-430f-83af-2559ed65cac7"
      },
      "source": [
        "a = 10 # number1\n",
        "b = 20 # number2\n",
        "print( \"Before Swap -- a :\",a,\" b :\",b)\n",
        "#swap prgm\n",
        "a = a+b\n",
        "b = a-b\n",
        "a = a-b\n",
        "print( \"After Swap -- a :\",a,\" b :\",b)"
      ],
      "execution_count": 5,
      "outputs": [
        {
          "output_type": "stream",
          "text": [
            "Before Swap -- a : 10  b : 20\n",
            "After Swap -- a : 20  b : 10\n"
          ],
          "name": "stdout"
        }
      ]
    },
    {
      "cell_type": "markdown",
      "metadata": {
        "id": "x-EjiCdIZQl2",
        "colab_type": "text"
      },
      "source": [
        "__Question 5__:\n",
        "Write a program to convert Fahrenheit to kelvin and celsius both."
      ]
    },
    {
      "cell_type": "code",
      "metadata": {
        "id": "LR3Ti9nfci70",
        "colab_type": "code",
        "colab": {
          "base_uri": "https://localhost:8080/",
          "height": 34
        },
        "outputId": "e7b43ef0-c7d0-4cd8-cdc8-d2341960c71c"
      },
      "source": [
        "Tf = 33.8 #input in Fahrenheit\n",
        "Tc = (Tf - 32)*(5/9)\n",
        "Tk = Tc + 273.15\n",
        "print(Tf , \" Fahrenheit means \",Tc,\" Celsius and \" ,Tk, \" kelvin\")"
      ],
      "execution_count": 3,
      "outputs": [
        {
          "output_type": "stream",
          "text": [
            "33.8  Fahrenheit means  0.9999999999999984  Celsius and  274.15  kelvin\n"
          ],
          "name": "stdout"
        }
      ]
    },
    {
      "cell_type": "markdown",
      "metadata": {
        "id": "rJC74cGNZfwj",
        "colab_type": "text"
      },
      "source": [
        "__Question 6__:\n",
        "Write a program to demonstrate all the available data types in Python. Hint: Use type() function."
      ]
    },
    {
      "cell_type": "code",
      "metadata": {
        "id": "IGHhAApAZdRN",
        "colab_type": "code",
        "colab": {
          "base_uri": "https://localhost:8080/",
          "height": 153
        },
        "outputId": "8b87e6af-3f05-4406-8cc1-e5cec7162068"
      },
      "source": [
        "a = 10 \n",
        "print(type(a)) # int\n",
        "\n",
        "a = 4 + 6j\n",
        "print(type(a)) # complex\n",
        "\n",
        "a = 0.15\n",
        "print(type(a)) # float\n",
        "\n",
        "a = (1,2,3,4,5)\n",
        "print(type(a)) # Dict\n",
        "\n",
        "a = [1,2,3,4,5]\n",
        "print(type(a)) # Tuple\n",
        "\n",
        "#string\n",
        "a = \"String\"\n",
        "print(type(a))\n",
        "\n",
        "#Boolean\n",
        "a = True\n",
        "print(type(a))\n",
        "\n",
        "a = False\n",
        "print(type(a))\n",
        "\n"
      ],
      "execution_count": 8,
      "outputs": [
        {
          "output_type": "stream",
          "text": [
            "<class 'int'>\n",
            "<class 'complex'>\n",
            "<class 'float'>\n",
            "<class 'tuple'>\n",
            "<class 'list'>\n",
            "<class 'str'>\n",
            "<class 'bool'>\n",
            "<class 'bool'>\n"
          ],
          "name": "stdout"
        }
      ]
    }
  ]
}