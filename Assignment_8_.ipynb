{
  "nbformat": 4,
  "nbformat_minor": 0,
  "metadata": {
    "colab": {
      "name": "Assignment 8 .ipynb",
      "provenance": [],
      "collapsed_sections": []
    },
    "kernelspec": {
      "name": "python3",
      "display_name": "Python 3"
    }
  },
  "cells": [
    {
      "cell_type": "markdown",
      "metadata": {
        "id": "p0r0gGFbU1lh",
        "colab_type": "text"
      },
      "source": [
        "__Question 1:__\n",
        "\n",
        "Recreate “NB 21 map, filter, lambda.ipynb” to try different variations or perform different calculations from\n",
        "the ones that are in the NB"
      ]
    },
    {
      "cell_type": "markdown",
      "metadata": {
        "id": "B2c12IFyVJAs",
        "colab_type": "text"
      },
      "source": [
        "#Map Function\n"
      ]
    },
    {
      "cell_type": "code",
      "metadata": {
        "id": "uuKe0kUsV23F",
        "colab_type": "code",
        "colab": {
          "base_uri": "https://localhost:8080/",
          "height": 34
        },
        "outputId": "c07a24bc-0938-4908-ecf4-05ef5765049e"
      },
      "source": [
        "def plus_2(a):\n",
        "  return a+2\n",
        "print(list(map(plus_2,[1,2,3,4,5])))"
      ],
      "execution_count": null,
      "outputs": [
        {
          "output_type": "stream",
          "text": [
            "[3, 4, 5, 6, 7]\n"
          ],
          "name": "stdout"
        }
      ]
    },
    {
      "cell_type": "code",
      "metadata": {
        "id": "0JRNGePEU52w",
        "colab_type": "code",
        "colab": {
          "base_uri": "https://localhost:8080/",
          "height": 34
        },
        "outputId": "ce65340b-e9ad-4b6b-c317-299d5526c341"
      },
      "source": [
        "def add(a,b):\n",
        "  return a+b\n",
        "print(list(map(add,[1,2,3,4,5,6,7,8,9,10],[1,2,3,4,5,6,7,8,9,10])))"
      ],
      "execution_count": null,
      "outputs": [
        {
          "output_type": "stream",
          "text": [
            "[2, 4, 6, 8, 10, 12, 14, 16, 18, 20]\n"
          ],
          "name": "stdout"
        }
      ]
    },
    {
      "cell_type": "code",
      "metadata": {
        "id": "lGthpgWTWCsP",
        "colab_type": "code",
        "colab": {
          "base_uri": "https://localhost:8080/",
          "height": 34
        },
        "outputId": "7daa5af4-8bc4-4f6e-872b-5008ef67edec"
      },
      "source": [
        "def sub(a,b):\n",
        "  return a-b\n",
        "print(list(map(sub,(i for i in range(5)),[1,1,1,1,1])))"
      ],
      "execution_count": null,
      "outputs": [
        {
          "output_type": "stream",
          "text": [
            "[-1, 0, 1, 2, 3]\n"
          ],
          "name": "stdout"
        }
      ]
    },
    {
      "cell_type": "markdown",
      "metadata": {
        "id": "sjgg_od2XgEV",
        "colab_type": "text"
      },
      "source": [
        "#Lambda functions"
      ]
    },
    {
      "cell_type": "code",
      "metadata": {
        "id": "cprhXAz1Xkn-",
        "colab_type": "code",
        "colab": {
          "base_uri": "https://localhost:8080/",
          "height": 34
        },
        "outputId": "f54b4bfd-7784-42ce-8953-b868a9e12bf5"
      },
      "source": [
        "x = lambda a,b : a+b\n",
        "print(x(2,3))"
      ],
      "execution_count": null,
      "outputs": [
        {
          "output_type": "stream",
          "text": [
            "5\n"
          ],
          "name": "stdout"
        }
      ]
    },
    {
      "cell_type": "code",
      "metadata": {
        "id": "M3bvO_QRYJFK",
        "colab_type": "code",
        "colab": {
          "base_uri": "https://localhost:8080/",
          "height": 87
        },
        "outputId": "e12d5a9c-8a64-4ac4-f3e5-80c34751e703"
      },
      "source": [
        "def sqr(a):\n",
        "  return lambda z : a*z\n",
        "print(sqr(3))\n",
        "print(sqr(3)(5))\n",
        "x = sqr(5)\n",
        "print(x)\n",
        "y=x(10)\n",
        "print(y)"
      ],
      "execution_count": null,
      "outputs": [
        {
          "output_type": "stream",
          "text": [
            "<function sqr.<locals>.<lambda> at 0x7f863bb51158>\n",
            "15\n",
            "<function sqr.<locals>.<lambda> at 0x7f863bb519d8>\n",
            "50\n"
          ],
          "name": "stdout"
        }
      ]
    },
    {
      "cell_type": "code",
      "metadata": {
        "id": "7Id2VV7eYrmO",
        "colab_type": "code",
        "colab": {
          "base_uri": "https://localhost:8080/",
          "height": 34
        },
        "outputId": "46e72087-05f3-4944-fcca-0254b9e2f69b"
      },
      "source": [
        "x = lambda y,z:y*y+z*z\n",
        "print(x(2,3))"
      ],
      "execution_count": null,
      "outputs": [
        {
          "output_type": "stream",
          "text": [
            "13\n"
          ],
          "name": "stdout"
        }
      ]
    },
    {
      "cell_type": "code",
      "metadata": {
        "id": "szRLFP5WZDcN",
        "colab_type": "code",
        "colab": {
          "base_uri": "https://localhost:8080/",
          "height": 34
        },
        "outputId": "fbcb68c9-0704-4c2e-c140-7d4c02e5d290"
      },
      "source": [
        "print(list(map(lambda a,b: a*b,[1,2,3,4,5],[1,2,3,4,5])))"
      ],
      "execution_count": null,
      "outputs": [
        {
          "output_type": "stream",
          "text": [
            "[1, 4, 9, 16, 25]\n"
          ],
          "name": "stdout"
        }
      ]
    },
    {
      "cell_type": "markdown",
      "metadata": {
        "id": "MKUo8qBEaRks",
        "colab_type": "text"
      },
      "source": [
        "\n",
        "#filter()"
      ]
    },
    {
      "cell_type": "code",
      "metadata": {
        "id": "qOyG-upGaWFL",
        "colab_type": "code",
        "colab": {
          "base_uri": "https://localhost:8080/",
          "height": 34
        },
        "outputId": "e2b8c1ab-5fd4-4d39-c342-1e2e0417495c"
      },
      "source": [
        "def filtering(a):\n",
        "  if(a>10 and a<15):\n",
        "    return a\n",
        "print(list(filter(filtering,[1,2,3,4,5,6,7,8,9,10,11,12,13,14,15,16,17])))"
      ],
      "execution_count": null,
      "outputs": [
        {
          "output_type": "stream",
          "text": [
            "[11, 12, 13, 14]\n"
          ],
          "name": "stdout"
        }
      ]
    },
    {
      "cell_type": "code",
      "metadata": {
        "id": "utoesRRUcwpf",
        "colab_type": "code",
        "colab": {
          "base_uri": "https://localhost:8080/",
          "height": 34
        },
        "outputId": "2b886e6f-2fbc-4af9-e102-16571e472161"
      },
      "source": [
        "print(list(filter(lambda x : x>10 and x<15,[1,2,3,4,5,6,7,8,9,10,11,12,13,14,15,16,17])))"
      ],
      "execution_count": null,
      "outputs": [
        {
          "output_type": "stream",
          "text": [
            "[11, 12, 13, 14]\n"
          ],
          "name": "stdout"
        }
      ]
    },
    {
      "cell_type": "markdown",
      "metadata": {
        "id": "ZL8wbstjdvYN",
        "colab_type": "text"
      },
      "source": [
        "#Reduce"
      ]
    },
    {
      "cell_type": "code",
      "metadata": {
        "id": "eFKrC178dykz",
        "colab_type": "code",
        "colab": {
          "base_uri": "https://localhost:8080/",
          "height": 34
        },
        "outputId": "9653f1ef-9693-4394-9cc9-7810635f8f5e"
      },
      "source": [
        "from functools import reduce \n",
        "print(reduce( lambda x,y: x*y , [100,1,2,3,4] ))"
      ],
      "execution_count": null,
      "outputs": [
        {
          "output_type": "stream",
          "text": [
            "2400\n"
          ],
          "name": "stdout"
        }
      ]
    },
    {
      "cell_type": "markdown",
      "metadata": {
        "id": "CaV82Dgje9Av",
        "colab_type": "text"
      },
      "source": [
        "#Combinations"
      ]
    },
    {
      "cell_type": "code",
      "metadata": {
        "id": "NSLf-xkfc-uZ",
        "colab_type": "code",
        "colab": {
          "base_uri": "https://localhost:8080/",
          "height": 34
        },
        "outputId": "8ae52ec5-7b6d-413a-db64-65cd57aa2270"
      },
      "source": [
        "x = filter(lambda x: x<=4,  map(lambda x: x+3., [1,2,3,4]))\n",
        "print(list(x))"
      ],
      "execution_count": null,
      "outputs": [
        {
          "output_type": "stream",
          "text": [
            "[4.0]\n"
          ],
          "name": "stdout"
        }
      ]
    },
    {
      "cell_type": "code",
      "metadata": {
        "id": "cZ_LXBzXd9ZR",
        "colab_type": "code",
        "colab": {
          "base_uri": "https://localhost:8080/",
          "height": 34
        },
        "outputId": "bbc11eff-d7ed-4d4f-ef56-36f405ab1d60"
      },
      "source": [
        "x = map(lambda x: x*5,  filter(lambda x: x>=1, [1,2,3,4]))\n",
        "print(list(x))"
      ],
      "execution_count": null,
      "outputs": [
        {
          "output_type": "stream",
          "text": [
            "[5, 10, 15, 20]\n"
          ],
          "name": "stdout"
        }
      ]
    },
    {
      "cell_type": "code",
      "metadata": {
        "id": "AfmWZMUKeo5e",
        "colab_type": "code",
        "colab": {
          "base_uri": "https://localhost:8080/",
          "height": 34
        },
        "outputId": "3679969d-177b-4d55-c6dd-76e1fa7e7805"
      },
      "source": [
        "x = reduce(lambda x,y: x*y,  map(lambda x:x*x, filter(lambda x: x>=1, (1,2,3,4))))\n",
        "print(x)"
      ],
      "execution_count": null,
      "outputs": [
        {
          "output_type": "stream",
          "text": [
            "576\n"
          ],
          "name": "stdout"
        }
      ]
    },
    {
      "cell_type": "markdown",
      "metadata": {
        "id": "b3cKmYfLfAq4",
        "colab_type": "text"
      },
      "source": [
        "__Question 2:__\n",
        "\n",
        "Recreate your own Python NB for “Classes and Objects” from the pdf provided namely\n",
        "“Classes&Objects.pdf”"
      ]
    },
    {
      "cell_type": "markdown",
      "metadata": {
        "id": "M1yG9XD-iU4s",
        "colab_type": "text"
      },
      "source": [
        "Python is an object-oriented language.\n",
        "some of the OOP terminology:\n",
        "\n",
        "Class − A user-defined prototype for an object that defines a set of attributes that characterize any object of the class. The attributes are data members (class variables and instance variables) and methods, accessed via dot notation.\n",
        "\n",
        "Class variable − A variable that is shared by all instances of a class. Class variables are defined within a class but outside any of the class's methods. Class variables are not used as frequently as instance variables are.\n",
        "\n",
        "Data member − A class variable or instance variable that holds data associated with a class and its objects.\n",
        "\n",
        "Function overloading − The assignment of more than one behavior to a particular function. The operation performed varies by the types of objects or arguments involved.\n",
        "\n",
        "Instance variable − A variable that is defined inside a method and belongs only to the current instance of a class.\n",
        "\n",
        "Inheritance − The transfer of the characteristics of a class to other classes that are derived from it.\n",
        "\n",
        "Instance − An individual object of a certain class. An object obj that belongs to a class Circle, for example, is an instance of the class Circle.\n",
        "\n",
        "Instantiation − The creation of an instance of a class.\n",
        "\n",
        "Method − A special kind of function that is defined in a class definition.\n",
        "\n",
        "Object − A unique instance of a data structure that's defined by its class. An object comprises both data members (class variables and instance variables) and methods.\n",
        "\n",
        "Operator overloading − The assignment of more than one function to a particular operator.\n",
        "\n",
        "------------------------------------------------------------\n",
        "###__Creating Classes__\n"
      ]
    },
    {
      "cell_type": "code",
      "metadata": {
        "id": "6tUaPOz4jN3H",
        "colab_type": "code",
        "colab": {}
      },
      "source": [
        "class abc :\n",
        "  a=0\n",
        "  b=1\n",
        "  __c = 10\n",
        "  def __init__(self):\n",
        "    a = input(\"Please Enter a \")\n",
        "    b = input(\"Please Enter b \")\n",
        "  def print1(self):\n",
        "    print(self.a,\"  \",self.b,\" \",self.__c,\"\\n\")"
      ],
      "execution_count": null,
      "outputs": []
    },
    {
      "cell_type": "markdown",
      "metadata": {
        "id": "oYwPZtYuj5zL",
        "colab_type": "text"
      },
      "source": [
        "###__Creating Instance Objects and Accessing Attributes__"
      ]
    },
    {
      "cell_type": "code",
      "metadata": {
        "id": "OY_cup4-kAu-",
        "colab_type": "code",
        "colab": {
          "base_uri": "https://localhost:8080/",
          "height": 52
        },
        "outputId": "03b58b51-02a1-4599-f652-0c17b77235cd"
      },
      "source": [
        "x = abc()"
      ],
      "execution_count": null,
      "outputs": [
        {
          "output_type": "stream",
          "text": [
            "Please Enter a 10\n",
            "Please Enter b 23\n"
          ],
          "name": "stdout"
        }
      ]
    },
    {
      "cell_type": "code",
      "metadata": {
        "id": "fXT6Qq6DkGnN",
        "colab_type": "code",
        "colab": {
          "base_uri": "https://localhost:8080/",
          "height": 52
        },
        "outputId": "2b5916c4-ce40-4969-81b0-3c61aa6d4193"
      },
      "source": [
        "x.print1()"
      ],
      "execution_count": null,
      "outputs": [
        {
          "output_type": "stream",
          "text": [
            "0    1   10 \n",
            "\n"
          ],
          "name": "stdout"
        }
      ]
    },
    {
      "cell_type": "code",
      "metadata": {
        "id": "X309RhsOkKw4",
        "colab_type": "code",
        "colab": {
          "base_uri": "https://localhost:8080/",
          "height": 105
        },
        "outputId": "c8a3e447-e339-4161-90ac-c9813cbeba84"
      },
      "source": [
        "print(hasattr(x, 'a'))    # Returns true if 'a' attribute exists\n",
        "print(getattr(x, 'a'))    # Returns value of 'a' attribute\n",
        "setattr(x, 'a', 8) # Set attribute 'a' at 8\n",
        "print(hasattr(x, 'a'))    # Returns true if 'a' attribute exists\n",
        "print(getattr(x, 'a'))    # Returns value of 'a' attribute\n",
        "delattr(x, 'a')    # Delete attribute 'a'\n",
        "print(getattr(x, 'a'))    # Returns value of 'a' attribute"
      ],
      "execution_count": null,
      "outputs": [
        {
          "output_type": "stream",
          "text": [
            "True\n",
            "0\n",
            "True\n",
            "8\n",
            "0\n"
          ],
          "name": "stdout"
        }
      ]
    },
    {
      "cell_type": "markdown",
      "metadata": {
        "id": "YjPMcqS7oEJe",
        "colab_type": "text"
      },
      "source": [
        "###__Built-In Class Attributes__\n"
      ]
    },
    {
      "cell_type": "markdown",
      "metadata": {
        "id": "O7wl4vMZodR5",
        "colab_type": "text"
      },
      "source": [
        "#_ _ _dict_ _ _: Dictionary containing the class's namespace.\n",
        "#_ _ _doc_ _ _: Class documentation string or none, if undefined.\n",
        "#_ _ _name__: Class name.\n",
        "#_ _ _module_ _ _: Module name in which the class is defined. This attribute is\n",
        "#\"_ _ _main_ _ _\" in interactive mode.\n",
        "#_ _ _bases_ _ _: A possibly empty tuple containing the base classes, in the order\n",
        "#of their occurrence in the base class list."
      ]
    },
    {
      "cell_type": "markdown",
      "metadata": {
        "id": "bhGyrsH7pLc6",
        "colab_type": "text"
      },
      "source": [
        "# Destroying the object \n",
        "\n",
        "_ _ _del_ _ _() destructor prints the class name of an instance that is about to be\n",
        "destroyed:\n"
      ]
    },
    {
      "cell_type": "code",
      "metadata": {
        "id": "F3mhPA9HlEUP",
        "colab_type": "code",
        "colab": {
          "base_uri": "https://localhost:8080/",
          "height": 52
        },
        "outputId": "51ebc805-0d1e-4f63-c9d6-58ae04e6c1ef"
      },
      "source": [
        "class abc:\n",
        "  a = 10\n",
        "  def __init__(self):\n",
        "    print(\"in constructor of abc\")\n",
        "  def __del__(self):\n",
        "    print(\"in destructor of abc\")\n",
        "x = abc()\n",
        "del x"
      ],
      "execution_count": null,
      "outputs": [
        {
          "output_type": "stream",
          "text": [
            "in constructor of abc\n",
            "in destructor of abc\n"
          ],
          "name": "stdout"
        }
      ]
    },
    {
      "cell_type": "markdown",
      "metadata": {
        "id": "ryFZzAuFqi9e",
        "colab_type": "text"
      },
      "source": [
        "#Class Inheritance"
      ]
    },
    {
      "cell_type": "markdown",
      "metadata": {
        "id": "SeEM6FR6qk5a",
        "colab_type": "text"
      },
      "source": [
        ""
      ]
    },
    {
      "cell_type": "code",
      "metadata": {
        "id": "Vqxj3RinrUzH",
        "colab_type": "code",
        "colab": {
          "base_uri": "https://localhost:8080/",
          "height": 105
        },
        "outputId": "c6fc4a5e-4977-4239-c9fd-b5c3362a2bba"
      },
      "source": [
        "class a:\n",
        "  a = 10\n",
        "  b = 20\n",
        "  def __init__(self):\n",
        "    print(\"in constructor of a\")\n",
        "  def a_var(self):\n",
        "    print(\"in a \\n\")\n",
        "class b(a):\n",
        "  def __init__(self):\n",
        "    print(\"in constructor of b\")\n",
        "  def b_var(self):\n",
        "    print(\"in b \\n\")\n",
        "\n",
        "x = b()\n",
        "x.b_var()\n",
        "x.a_var()"
      ],
      "execution_count": null,
      "outputs": [
        {
          "output_type": "stream",
          "text": [
            "in constructor of b\n",
            "in b \n",
            "\n",
            "in a \n",
            "\n"
          ],
          "name": "stdout"
        }
      ]
    },
    {
      "cell_type": "markdown",
      "metadata": {
        "id": "f_NmEN9hs4BP",
        "colab_type": "text"
      },
      "source": [
        "class A: # define your class A\n",
        "\n",
        ".....\n",
        "\n",
        "class B: # define your calss B\n",
        "\n",
        ".....\n",
        "\n",
        "class C(A, B): # subclass of A and B"
      ]
    },
    {
      "cell_type": "markdown",
      "metadata": {
        "id": "7mfw3BPctAmI",
        "colab_type": "text"
      },
      "source": [
        "#Classes and instances.\n",
        "\n",
        "__The issubclass(sub, sup)__ boolean function returns true if the given\n",
        "subclass sub is indeed a subclass of the superclass sup.\n",
        "\n",
        "__The isinstance(obj, Class)__ boolean function returns true if obj is an instance\n",
        "of class Class or is an instance of a subclass of Class\n"
      ]
    },
    {
      "cell_type": "markdown",
      "metadata": {
        "id": "07UQBS8B5L9f",
        "colab_type": "text"
      },
      "source": [
        "#__Overriding Methods__\n",
        "\n",
        "You can always override your parent class methods. One reason for overriding parent's methods is because you may want special or different functionality in your subclass."
      ]
    },
    {
      "cell_type": "code",
      "metadata": {
        "id": "66Dijh4dsNS4",
        "colab_type": "code",
        "colab": {
          "base_uri": "https://localhost:8080/",
          "height": 34
        },
        "outputId": "a4ceac5d-e974-417f-89f5-ad23df4af18d"
      },
      "source": [
        "class abc:\n",
        "  def print1(self):\n",
        "    print(\"class abc\")\n",
        "class xyz(abc):\n",
        "  def print1(self):\n",
        "    print(\"class xyz\")\n",
        "x = xyz()\n",
        "x.print1()"
      ],
      "execution_count": 3,
      "outputs": [
        {
          "output_type": "stream",
          "text": [
            "class def\n"
          ],
          "name": "stdout"
        }
      ]
    },
    {
      "cell_type": "markdown",
      "metadata": {
        "id": "2bFHTGvr57lw",
        "colab_type": "text"
      },
      "source": [
        "Base Overloading Methods\n",
        "Following table lists some generic functionality that you can override in your own classes −\n",
        "\n",
        "Sr.No.\tMethod, Description & Sample Call\n",
        "1\t\n",
        "__init__ ( self [,args...] )\n",
        "\n",
        "Constructor (with any optional arguments)\n",
        "\n",
        "Sample Call : obj = className(args)\n",
        "\n",
        "2\t\n",
        "__del__( self )\n",
        "\n",
        "Destructor, deletes an object\n",
        "\n",
        "Sample Call : del obj\n",
        "\n",
        "3\t\n",
        "__repr__( self )\n",
        "\n",
        "Evaluable string representation\n",
        "\n",
        "Sample Call : repr(obj)\n",
        "\n",
        "4\t\n",
        "__str__( self )\n",
        "\n",
        "Printable string representation\n",
        "\n",
        "Sample Call : str(obj)\n",
        "\n",
        "5\t\n",
        "__cmp__ ( self, x )\n",
        "\n",
        "Object comparison\n",
        "\n",
        "Sample Call : cmp(obj, x)"
      ]
    },
    {
      "cell_type": "markdown",
      "metadata": {
        "id": "GTLaIxfp6GPQ",
        "colab_type": "text"
      },
      "source": [
        "#__Overloading Operators__\n",
        "Suppose you have created a Vector class to represent two-dimensional vectors, what happens when you use the plus operator to add them? Most likely Python will yell at you.\n",
        "\n",
        "You could, however, define the __add__ method in your class to perform vector addition and then the plus operator would behave as per expectation "
      ]
    },
    {
      "cell_type": "markdown",
      "metadata": {
        "id": "EtAarBGT6IgD",
        "colab_type": "text"
      },
      "source": [
        "#__Data Hiding__\n",
        "An object's attributes may or may not be visible outside the class definition. You need to name attributes with a double underscore prefix, and those attributes then are not be directly visible to outsiders."
      ]
    },
    {
      "cell_type": "code",
      "metadata": {
        "id": "QntFFZaM6Og-",
        "colab_type": "code",
        "colab": {
          "base_uri": "https://localhost:8080/",
          "height": 221
        },
        "outputId": "0698d1ff-973d-4cf9-b69a-d3aaed360e18"
      },
      "source": [
        "class abc:\n",
        "  a = 10\n",
        "  __x =20\n",
        "\n",
        "y = abc()\n",
        "print(y.a)  # its a public so it can be accesible \n",
        "print(y.__x) # it will give error as private"
      ],
      "execution_count": 8,
      "outputs": [
        {
          "output_type": "stream",
          "text": [
            "10\n"
          ],
          "name": "stdout"
        },
        {
          "output_type": "error",
          "ename": "AttributeError",
          "evalue": "ignored",
          "traceback": [
            "\u001b[0;31m---------------------------------------------------------------------------\u001b[0m",
            "\u001b[0;31mAttributeError\u001b[0m                            Traceback (most recent call last)",
            "\u001b[0;32m<ipython-input-8-4247adc49a23>\u001b[0m in \u001b[0;36m<module>\u001b[0;34m()\u001b[0m\n\u001b[1;32m      5\u001b[0m \u001b[0my\u001b[0m \u001b[0;34m=\u001b[0m \u001b[0mabc\u001b[0m\u001b[0;34m(\u001b[0m\u001b[0;34m)\u001b[0m\u001b[0;34m\u001b[0m\u001b[0;34m\u001b[0m\u001b[0m\n\u001b[1;32m      6\u001b[0m \u001b[0mprint\u001b[0m\u001b[0;34m(\u001b[0m\u001b[0my\u001b[0m\u001b[0;34m.\u001b[0m\u001b[0ma\u001b[0m\u001b[0;34m)\u001b[0m  \u001b[0;31m# its a public so it can be accesible\u001b[0m\u001b[0;34m\u001b[0m\u001b[0;34m\u001b[0m\u001b[0m\n\u001b[0;32m----> 7\u001b[0;31m \u001b[0mprint\u001b[0m\u001b[0;34m(\u001b[0m\u001b[0my\u001b[0m\u001b[0;34m.\u001b[0m\u001b[0m__x\u001b[0m\u001b[0;34m)\u001b[0m \u001b[0;31m# it will give error as private\u001b[0m\u001b[0;34m\u001b[0m\u001b[0;34m\u001b[0m\u001b[0m\n\u001b[0m",
            "\u001b[0;31mAttributeError\u001b[0m: 'abc' object has no attribute '__x'"
          ]
        }
      ]
    }
  ]
}